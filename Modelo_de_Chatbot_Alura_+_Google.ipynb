{
  "nbformat": 4,
  "nbformat_minor": 0,
  "metadata": {
    "colab": {
      "provenance": [],
      "authorship_tag": "ABX9TyOwpyuZtqwphh5HhjbpSCN8",
      "include_colab_link": true
    },
    "kernelspec": {
      "name": "python3",
      "display_name": "Python 3"
    },
    "language_info": {
      "name": "python"
    }
  },
  "cells": [
    {
      "cell_type": "markdown",
      "metadata": {
        "id": "view-in-github",
        "colab_type": "text"
      },
      "source": [
        "<a href=\"https://colab.research.google.com/github/OVini72/Modelo_Chatbot_Alura_Google/blob/main/Modelo_de_Chatbot_Alura_%2B_Google.ipynb\" target=\"_parent\"><img src=\"https://colab.research.google.com/assets/colab-badge.svg\" alt=\"Open In Colab\"/></a>"
      ]
    },
    {
      "cell_type": "markdown",
      "source": [
        "*Instalando o SDK do Google*"
      ],
      "metadata": {
        "id": "NerW_ZKmcFQh"
      }
    },
    {
      "cell_type": "code",
      "source": [
        "!pip install -q -U google-generativeai"
      ],
      "metadata": {
        "id": "Ry2LO8xbcLaI"
      },
      "execution_count": 3,
      "outputs": []
    },
    {
      "cell_type": "code",
      "source": [
        "import google.generativeai as genai\n",
        "from google.colab import userdata\n",
        "api_key = userdata.get('******')\n",
        "\n",
        "genai.configure(api_key=api_key)"
      ],
      "metadata": {
        "id": "ONUEsjB-cT2V"
      },
      "execution_count": 23,
      "outputs": []
    },
    {
      "cell_type": "markdown",
      "source": [
        "*Listar os modelos disponíveis.*"
      ],
      "metadata": {
        "id": "SqQsp9jqchq5"
      }
    },
    {
      "cell_type": "code",
      "source": [
        "for m in genai.list_models():\n",
        "  if 'generateContent' in m.supported_generation_methods:\n",
        "    print(m.name)"
      ],
      "metadata": {
        "colab": {
          "base_uri": "https://localhost:8080/",
          "height": 146
        },
        "id": "TEx9UKjDcfg7",
        "outputId": "5c227bc4-c9da-4243-dcd7-cb7d0d6a48fb"
      },
      "execution_count": 5,
      "outputs": [
        {
          "output_type": "stream",
          "name": "stdout",
          "text": [
            "models/gemini-1.0-pro\n",
            "models/gemini-1.0-pro-001\n",
            "models/gemini-1.0-pro-latest\n",
            "models/gemini-1.0-pro-vision-latest\n",
            "models/gemini-1.5-pro-latest\n",
            "models/gemini-pro\n",
            "models/gemini-pro-vision\n"
          ]
        }
      ]
    },
    {
      "cell_type": "markdown",
      "source": [
        "*Definindo parâmetros.*"
      ],
      "metadata": {
        "id": "YPBvp5Llgc-I"
      }
    },
    {
      "cell_type": "code",
      "source": [
        "generation_config = {\n",
        "    'candidate_count': 1,\n",
        "    'temperature': 0.5,\n",
        "}"
      ],
      "metadata": {
        "id": "aEDSIG4dfUpr"
      },
      "execution_count": 11,
      "outputs": []
    },
    {
      "cell_type": "markdown",
      "source": [
        "*Definindo configurações de segurança.*"
      ],
      "metadata": {
        "id": "oMLT7l8ahLKc"
      }
    },
    {
      "cell_type": "code",
      "source": [
        "safety_settings = {\n",
        "    'HARASSMENT': 'BLOCK_NONE',\n",
        "    'HATE': 'BLOCK_NONE',\n",
        "    'SEXUAL': 'BLOCK_NONE',\n",
        "    'DANGEROUS': 'BLOCK_NONE',\n",
        "}"
      ],
      "metadata": {
        "id": "atUz76rYfjr1"
      },
      "execution_count": 9,
      "outputs": []
    },
    {
      "cell_type": "markdown",
      "source": [
        "*Inicializando o modelo.*"
      ],
      "metadata": {
        "id": "P2e6qkl1i3hT"
      }
    },
    {
      "cell_type": "code",
      "source": [
        "model = genai.GenerativeModel(model_name='gemini-1.0-pro',\n",
        "                              generation_config=generation_config,\n",
        "                              safety_settings=safety_settings)"
      ],
      "metadata": {
        "id": "V2X7NpAli-f0"
      },
      "execution_count": 12,
      "outputs": []
    },
    {
      "cell_type": "markdown",
      "source": [
        "*Inserindo comando e mostrando resultado.*"
      ],
      "metadata": {
        "id": "Xw8JN2FWj_nd"
      }
    },
    {
      "cell_type": "code",
      "source": [
        "response = model.generate_content(\"Me dê 5 sugestões de projetos em python para criar um portfólio.\")\n",
        "print(response.text)"
      ],
      "metadata": {
        "colab": {
          "base_uri": "https://localhost:8080/",
          "height": 388
        },
        "id": "u_tEwSA7kFBL",
        "outputId": "4d9b5607-356e-4791-a05b-e976ccc84c99"
      },
      "execution_count": 14,
      "outputs": [
        {
          "output_type": "stream",
          "name": "stdout",
          "text": [
            "**1. Sistema de Gerenciamento de Inventário**\n",
            "* Crie um sistema que gerencie o inventário de produtos, incluindo adição, remoção, atualização e rastreamento.\n",
            "* Implemente recursos como relatórios de estoque, pedidos e notificações de baixo estoque.\n",
            "\n",
            "**2. Aplicativo de Análise de Dados**\n",
            "* Desenvolva um aplicativo que analise dados de várias fontes, como arquivos CSV ou bancos de dados.\n",
            "* Implemente visualizações interativas, como gráficos e tabelas, para facilitar a compreensão dos dados.\n",
            "\n",
            "**3. Sistema de Recomendação**\n",
            "* Crie um sistema que recomende produtos ou serviços aos usuários com base em seu histórico de compras ou preferências.\n",
            "* Use técnicas de aprendizado de máquina para identificar padrões e fazer previsões.\n",
            "\n",
            "**4. Ferramenta de Automação de Tarefas**\n",
            "* Desenvolva uma ferramenta que automatize tarefas repetitivas, como enviar e-mails, agendar compromissos ou baixar arquivos.\n",
            "* Use bibliotecas de agendamento e manipulação de arquivos para criar fluxos de trabalho eficientes.\n",
            "\n",
            "**5. Aplicativo de Processamento de Linguagem Natural**\n",
            "* Crie um aplicativo que processe e analise texto, como extração de palavras-chave, resumo de texto ou tradução de idiomas.\n",
            "* Use bibliotecas de processamento de linguagem natural para implementar algoritmos avançados.\n"
          ]
        }
      ]
    },
    {
      "cell_type": "markdown",
      "source": [
        "*Definindo variável CHAT.*"
      ],
      "metadata": {
        "id": "fpxB2iAmki5T"
      }
    },
    {
      "cell_type": "code",
      "source": [
        "chat = model.start_chat(history=[])"
      ],
      "metadata": {
        "id": "rWfARlAjkoi6"
      },
      "execution_count": 16,
      "outputs": []
    },
    {
      "cell_type": "markdown",
      "source": [
        "*Definindo variável PROMPT.*"
      ],
      "metadata": {
        "id": "IZnq-yoplJny"
      }
    },
    {
      "cell_type": "code",
      "source": [
        "prompt = input('Esperando prompt: ')\n",
        "\n",
        "while prompt != 'fim':\n",
        "  response = chat.send_message(prompt)\n",
        "  print('Resposta: ', response.text, '\\n')\n",
        "  prompt = input('Esperando prompt: ')"
      ],
      "metadata": {
        "colab": {
          "base_uri": "https://localhost:8080/",
          "height": 461
        },
        "id": "Y_H7GRAolOZb",
        "outputId": "4813eba8-7c7f-4ede-9208-f1f5102f82c9"
      },
      "execution_count": 20,
      "outputs": [
        {
          "name": "stdout",
          "output_type": "stream",
          "text": [
            "Esperando prompt: Qual a capital da Africa do Sul?\n",
            "Resposta:  Pretória \n",
            "\n",
            "Esperando prompt: Qual a comida típica de lá?\n",
            "Resposta:  **Pratos típicos da África do Sul:**\n",
            "\n",
            "* **Biltong:** Carne seca e temperada, semelhante ao charque.\n",
            "* **Boerewors:** Salsicha grelhada feita com carne bovina, suína ou de cordeiro.\n",
            "* **Braai (Churrasco):** Carnes grelhadas, geralmente ao ar livre, com vários tipos de cortes e marinadas.\n",
            "* **Bunny Chow:** Pão escavado e recheado com curry.\n",
            "* **Chakalaka:** Molho picante feito com cebola, tomate, pimentão e feijão.\n",
            "* **Koeksisters:** Pastelaria doce e frita, semelhante ao churro.\n",
            "* **Malva Pudding:** Pudim doce e esponjoso servido com molho de creme inglês.\n",
            "* **Melktert:** Torta de leite, uma sobremesa cremosa e doce.\n",
            "* **Pap:** Mingau de milho, um acompanhamento básico.\n",
            "* **Potjiekos:** Ensopado tradicional cozido em uma panela de ferro fundido sobre o fogo.\n",
            "* **Sosaties:** Espetos de carne marinada grelhados.\n",
            "* **Umngqusho:** Ensopado de milho e feijão. \n",
            "\n",
            "Esperando prompt: Fim\n",
            "Resposta:  Obrigado por conversar comigo. Foi um prazer! \n",
            "\n",
            "Esperando prompt: fim\n"
          ]
        }
      ]
    },
    {
      "cell_type": "markdown",
      "source": [
        "*Melhorando a visualização.*  \n",
        "*Código disponível em https://ai.google/dev/tutorials/python/quickstart#import_packages*\n"
      ],
      "metadata": {
        "id": "IGAQjzG3n60x"
      }
    },
    {
      "cell_type": "code",
      "source": [
        "import textwrap\n",
        "from IPython.display import display\n",
        "from IPython.display import Markdown\n",
        "\n",
        "def to_markdown(text):\n",
        "  text = text.replace('•', '  *')\n",
        "  return Markdown(textwrap.indent(text, '> ', predicate=lambda _: True))"
      ],
      "metadata": {
        "id": "s0qxRFHIoKXj"
      },
      "execution_count": 21,
      "outputs": []
    },
    {
      "cell_type": "markdown",
      "source": [
        "*Imprimindo o histórico.*"
      ],
      "metadata": {
        "id": "Af0USx9zoVvF"
      }
    },
    {
      "cell_type": "code",
      "source": [
        "for message in chat.history:\n",
        "  display(to_markdown(f'**{message.role}**: {message.parts[0].text}'))\n",
        "  print('-'*100)"
      ],
      "metadata": {
        "colab": {
          "base_uri": "https://localhost:8080/",
          "height": 1000
        },
        "id": "ASRLMdZ-oX6i",
        "outputId": "e1416c7a-7f42-49f8-a6e3-4cb7648ca293"
      },
      "execution_count": 22,
      "outputs": [
        {
          "output_type": "display_data",
          "data": {
            "text/plain": [
              "<IPython.core.display.Markdown object>"
            ],
            "text/markdown": "> **user**: Diga \"Olá\" em 3 línguas diferentes."
          },
          "metadata": {}
        },
        {
          "output_type": "stream",
          "name": "stdout",
          "text": [
            "----------------------------------------------------------------------------------------------------\n"
          ]
        },
        {
          "output_type": "display_data",
          "data": {
            "text/plain": [
              "<IPython.core.display.Markdown object>"
            ],
            "text/markdown": "> **model**: - Inglês: Hello\n> - Espanhol: Hola\n> - Francês: Bonjour"
          },
          "metadata": {}
        },
        {
          "output_type": "stream",
          "name": "stdout",
          "text": [
            "----------------------------------------------------------------------------------------------------\n"
          ]
        },
        {
          "output_type": "display_data",
          "data": {
            "text/plain": [
              "<IPython.core.display.Markdown object>"
            ],
            "text/markdown": "> **user**: Qual a capital da Africa do Sul?"
          },
          "metadata": {}
        },
        {
          "output_type": "stream",
          "name": "stdout",
          "text": [
            "----------------------------------------------------------------------------------------------------\n"
          ]
        },
        {
          "output_type": "display_data",
          "data": {
            "text/plain": [
              "<IPython.core.display.Markdown object>"
            ],
            "text/markdown": "> **model**: Pretória\n> \n> Embora Cidade do Cabo seja a sede do Parlamento e Bloemfontein seja a sede do Judiciário, Pretória é a capital administrativa e executiva da África do Sul."
          },
          "metadata": {}
        },
        {
          "output_type": "stream",
          "name": "stdout",
          "text": [
            "----------------------------------------------------------------------------------------------------\n"
          ]
        },
        {
          "output_type": "display_data",
          "data": {
            "text/plain": [
              "<IPython.core.display.Markdown object>"
            ],
            "text/markdown": "> **user**: Qual a capital da Africa do Sul?"
          },
          "metadata": {}
        },
        {
          "output_type": "stream",
          "name": "stdout",
          "text": [
            "----------------------------------------------------------------------------------------------------\n"
          ]
        },
        {
          "output_type": "display_data",
          "data": {
            "text/plain": [
              "<IPython.core.display.Markdown object>"
            ],
            "text/markdown": "> **model**: Pretória"
          },
          "metadata": {}
        },
        {
          "output_type": "stream",
          "name": "stdout",
          "text": [
            "----------------------------------------------------------------------------------------------------\n"
          ]
        },
        {
          "output_type": "display_data",
          "data": {
            "text/plain": [
              "<IPython.core.display.Markdown object>"
            ],
            "text/markdown": "> **user**: Qual a comida típica de lá?"
          },
          "metadata": {}
        },
        {
          "output_type": "stream",
          "name": "stdout",
          "text": [
            "----------------------------------------------------------------------------------------------------\n"
          ]
        },
        {
          "output_type": "display_data",
          "data": {
            "text/plain": [
              "<IPython.core.display.Markdown object>"
            ],
            "text/markdown": "> **model**: **Pratos típicos da África do Sul:**\n> \n> * **Biltong:** Carne seca e temperada, semelhante ao charque.\n> * **Boerewors:** Salsicha grelhada feita com carne bovina, suína ou de cordeiro.\n> * **Braai (Churrasco):** Carnes grelhadas, geralmente ao ar livre, com vários tipos de cortes e marinadas.\n> * **Bunny Chow:** Pão escavado e recheado com curry.\n> * **Chakalaka:** Molho picante feito com cebola, tomate, pimentão e feijão.\n> * **Koeksisters:** Pastelaria doce e frita, semelhante ao churro.\n> * **Malva Pudding:** Pudim doce e esponjoso servido com molho de creme inglês.\n> * **Melktert:** Torta de leite, uma sobremesa cremosa e doce.\n> * **Pap:** Mingau de milho, um acompanhamento básico.\n> * **Potjiekos:** Ensopado tradicional cozido em uma panela de ferro fundido sobre o fogo.\n> * **Sosaties:** Espetos de carne marinada grelhados.\n> * **Umngqusho:** Ensopado de milho e feijão."
          },
          "metadata": {}
        },
        {
          "output_type": "stream",
          "name": "stdout",
          "text": [
            "----------------------------------------------------------------------------------------------------\n"
          ]
        },
        {
          "output_type": "display_data",
          "data": {
            "text/plain": [
              "<IPython.core.display.Markdown object>"
            ],
            "text/markdown": "> **user**: Fim"
          },
          "metadata": {}
        },
        {
          "output_type": "stream",
          "name": "stdout",
          "text": [
            "----------------------------------------------------------------------------------------------------\n"
          ]
        },
        {
          "output_type": "display_data",
          "data": {
            "text/plain": [
              "<IPython.core.display.Markdown object>"
            ],
            "text/markdown": "> **model**: Obrigado por conversar comigo. Foi um prazer!"
          },
          "metadata": {}
        },
        {
          "output_type": "stream",
          "name": "stdout",
          "text": [
            "----------------------------------------------------------------------------------------------------\n"
          ]
        }
      ]
    }
  ]
}